{
 "cells": [
  {
   "cell_type": "markdown",
   "id": "considerable-inspiration",
   "metadata": {},
   "source": [
    "'''\n",
    "데이터 세트는 일상 사용 시 무거운 Scania 트럭에서 수집된 데이터로 구성된다. \n",
    "이 시스템은 공기압 시스템(APS)으로, 제동 및 기어 변속과 같은 대차의 다양한 기능에 사용되는 가압 공기를 생성합니다. \n",
    "데이터 세트의 pos는 APS 시스템의 특정 구성 요소에 대한 구성 요소 장애로 구성됩니다. \n",
    "neg는 APS와 관련이 없는 구성 요소에 대한 고장이 있는 트럭으로 구성됩니다. \n",
    "데이터는 전문가들이 선택한 사용 가능한 모든 데이터의 하위 집합으로 구성됩니다.\n",
    "\n",
    "학습 데이터 6만개 / 테스트 데이터 1만 6천개\n",
    "\n",
    "'''"
   ]
  },
  {
   "cell_type": "code",
   "execution_count": 2,
   "id": "frozen-yellow",
   "metadata": {},
   "outputs": [],
   "source": [
    "import os\n",
    "import numpy as np\n",
    "import copy\n",
    "from scipy import interpolate\n",
    "import matplotlib.pyplot as plt\n",
    "import pandas as pd"
   ]
  },
  {
   "cell_type": "markdown",
   "id": "analyzed-trash",
   "metadata": {},
   "source": [
    "# 1. Preprocessing"
   ]
  },
  {
   "cell_type": "code",
   "execution_count": 5,
   "id": "located-responsibility",
   "metadata": {},
   "outputs": [],
   "source": [
    "PATH = \"C:/Users/maeng/desktop/APS\"\n",
    "TRAIN_PATH = os.path.join(PATH, \"aps_failure_training_set.csv\")\n",
    "TEST_PATH  = os.path.join(PATH, \"aps_failure_test_set.csv\")\n",
    "\n",
    "train_data = pd.read_csv(TRAIN_PATH)\n",
    "test_data  = pd.read_csv(TEST_PATH)\n",
    "\n",
    "#결측값 처리\n",
    "train_data[train_data == \"na\"] = np.nan\n",
    "test_data[test_data == \"na\"]   = np.nan\n",
    "\n",
    "idx = pd.isna(train_data).sum(axis = 0)\n",
    "idx = idx[idx >= 5000].index\n",
    "\n",
    "train_data = train_data[[i for i in train_data.columns if i not in idx]]\n",
    "train_data = train_data.dropna()\n",
    "test_data  = test_data[[i for i in test_data.columns if i not in idx]]\n",
    "test_data  = test_data.dropna()\n",
    "\n",
    "\n",
    "train_data = pd.concat([train_data.iloc[:, 1:], train_data.iloc[:, 0]], axis = 1)\n",
    "test_data  = pd.concat([test_data.iloc[:, 1:], test_data.iloc[:, 0]], axis = 1)\n",
    "train_data.columns = list(train_data.columns[:-1]) + [\"label\"]\n",
    "test_data.columns = list(test_data.columns[:-1]) + [\"label\"]\n",
    "\n",
    "idx = {\"neg\" : 0, \"pos\" : 1}\n",
    "train_data[\"label\"] = train_data[\"label\"].replace(idx)\n",
    "test_data[\"label\"]  = test_data[\"label\"].replace(idx)\n",
    "\n",
    "train_data = train_data.astype(float)\n",
    "test_data = test_data.astype(float)"
   ]
  },
  {
   "cell_type": "code",
   "execution_count": 6,
   "id": "fabulous-controversy",
   "metadata": {},
   "outputs": [],
   "source": [
    "#학습시간 단축을 위해 정상 데이터는 10%만 랜덤 샘플링, 비정상 데이터는 전체를 다 쓰도록 설정\n",
    "train_data1 = pd.concat([train_data[train_data.label == 0].sample(frac = 0.1, replace = False), train_data[train_data.label == 1]]).reset_index(drop = True)\n",
    "test_data1 = copy.copy(test_data)"
   ]
  },
  {
   "cell_type": "markdown",
   "id": "early-union",
   "metadata": {},
   "source": [
    "# 2. Modeling Data"
   ]
  },
  {
   "cell_type": "code",
   "execution_count": 7,
   "id": "executive-facing",
   "metadata": {},
   "outputs": [],
   "source": [
    "from sklearn.model_selection import cross_val_score\n",
    "from sklearn.model_selection import GridSearchCV\n",
    "\n",
    "X_train = train_data1.iloc[:, 0:-1]; Y_train = train_data1.iloc[:,-1]; X_test = test_data1.iloc[:, 0:-1]; Y_test = test_data1.iloc[:,-1] "
   ]
  },
  {
   "cell_type": "markdown",
   "id": "worldwide-boutique",
   "metadata": {},
   "source": [
    "# 3. Adaboost\n",
    "#### 파라미터 참조 : https://scikit-learn.org/stable/modules/generated/sklearn.ensemble.AdaBoostClassifier.html"
   ]
  },
  {
   "cell_type": "code",
   "execution_count": 15,
   "id": "cooperative-compiler",
   "metadata": {},
   "outputs": [],
   "source": [
    "from sklearn.ensemble import AdaBoostClassifier\n",
    "\n",
    "params = {\"n_estimators\" : [50, 100, 150], \"learning_rate\" : [1]}\n",
    "\n",
    "model_Ada = AdaBoostClassifier()\n",
    "grid_model_Ada = GridSearchCV(model_Ada, param_grid = params, cv = 5, refit = True, return_train_score= True)\n",
    "\n",
    "grid_model_Ada.fit(X_train, Y_train)\n",
    "\n",
    "result = pd.DataFrame(grid_model_Ada.cv_results_)\n",
    "\n",
    "best_model_Ada = grid_model_Ada.best_estimator_"
   ]
  },
  {
   "cell_type": "code",
   "execution_count": 16,
   "id": "express-credits",
   "metadata": {},
   "outputs": [
    {
     "name": "stdout",
     "output_type": "stream",
     "text": [
      "CV score\n"
     ]
    },
    {
     "data": {
      "text/html": [
       "<div>\n",
       "<style scoped>\n",
       "    .dataframe tbody tr th:only-of-type {\n",
       "        vertical-align: middle;\n",
       "    }\n",
       "\n",
       "    .dataframe tbody tr th {\n",
       "        vertical-align: top;\n",
       "    }\n",
       "\n",
       "    .dataframe thead th {\n",
       "        text-align: right;\n",
       "    }\n",
       "</style>\n",
       "<table border=\"1\" class=\"dataframe\">\n",
       "  <thead>\n",
       "    <tr style=\"text-align: right;\">\n",
       "      <th></th>\n",
       "      <th>params</th>\n",
       "      <th>split0_test_score</th>\n",
       "      <th>split1_test_score</th>\n",
       "      <th>split2_test_score</th>\n",
       "      <th>split3_test_score</th>\n",
       "      <th>split4_test_score</th>\n",
       "      <th>mean_test_score</th>\n",
       "    </tr>\n",
       "  </thead>\n",
       "  <tbody>\n",
       "    <tr>\n",
       "      <th>0</th>\n",
       "      <td>{'learning_rate': 1, 'n_estimators': 50}</td>\n",
       "      <td>0.974048</td>\n",
       "      <td>0.978374</td>\n",
       "      <td>0.972318</td>\n",
       "      <td>0.987889</td>\n",
       "      <td>0.982684</td>\n",
       "      <td>0.979063</td>\n",
       "    </tr>\n",
       "    <tr>\n",
       "      <th>1</th>\n",
       "      <td>{'learning_rate': 1, 'n_estimators': 100}</td>\n",
       "      <td>0.982699</td>\n",
       "      <td>0.979239</td>\n",
       "      <td>0.975779</td>\n",
       "      <td>0.988754</td>\n",
       "      <td>0.983550</td>\n",
       "      <td>0.982004</td>\n",
       "    </tr>\n",
       "    <tr>\n",
       "      <th>2</th>\n",
       "      <td>{'learning_rate': 1, 'n_estimators': 150}</td>\n",
       "      <td>0.981834</td>\n",
       "      <td>0.980969</td>\n",
       "      <td>0.980104</td>\n",
       "      <td>0.986159</td>\n",
       "      <td>0.982684</td>\n",
       "      <td>0.982350</td>\n",
       "    </tr>\n",
       "  </tbody>\n",
       "</table>\n",
       "</div>"
      ],
      "text/plain": [
       "                                      params  split0_test_score  \\\n",
       "0   {'learning_rate': 1, 'n_estimators': 50}           0.974048   \n",
       "1  {'learning_rate': 1, 'n_estimators': 100}           0.982699   \n",
       "2  {'learning_rate': 1, 'n_estimators': 150}           0.981834   \n",
       "\n",
       "   split1_test_score  split2_test_score  split3_test_score  split4_test_score  \\\n",
       "0           0.978374           0.972318           0.987889           0.982684   \n",
       "1           0.979239           0.975779           0.988754           0.983550   \n",
       "2           0.980969           0.980104           0.986159           0.982684   \n",
       "\n",
       "   mean_test_score  \n",
       "0         0.979063  \n",
       "1         0.982004  \n",
       "2         0.982350  "
      ]
     },
     "execution_count": 16,
     "metadata": {},
     "output_type": "execute_result"
    }
   ],
   "source": [
    "print(\"CV score\")\n",
    "result[[\"params\"] + [\"split\" + str(i) + \"_test_score\" for i in range(5)] + [\"std_test_score\", \"mean_test_score\"]]"
   ]
  },
  {
   "cell_type": "code",
   "execution_count": 17,
   "id": "planned-disabled",
   "metadata": {},
   "outputs": [
    {
     "name": "stdout",
     "output_type": "stream",
     "text": [
      "Adaboost\n",
      "Best Parameter : {'learning_rate': 1, 'n_estimators': 150}\n",
      "pred    0.0  1.0\n",
      "real            \n",
      "0.0   14129  123\n",
      "1.0      24  136\n",
      "Acc : 0.9898001665278934\n"
     ]
    }
   ],
   "source": [
    "print(\"Adaboost\")\n",
    "print(\"Best Parameter : \" + str(grid_model_Ada.best_params_))\n",
    "\n",
    "pred = best_model_Ada.predict(X_test)\n",
    "tab = pd.crosstab(Y_test, pred, rownames = [\"real\"], colnames = [\"pred\"])\n",
    "print(tab)\n",
    "print(\"Acc : \" + str((tab.iloc[0, 0] + tab.iloc[1,1]) / len(X_test)))"
   ]
  },
  {
   "cell_type": "markdown",
   "id": "overhead-prerequisite",
   "metadata": {},
   "source": [
    "# 4. Feature Importance (Top10)"
   ]
  },
  {
   "cell_type": "code",
   "execution_count": 25,
   "id": "speaking-closing",
   "metadata": {},
   "outputs": [
    {
     "data": {
      "image/png": "[encoded data removed]",
      "text/plain": [
       "<Figure size 1440x360 with 3 Axes>"
      ]
     },
     "metadata": {
      "needs_background": "light"
     },
     "output_type": "display_data"
    }
   ],
   "source": [
    "plt.figure(figsize = (20, 5))\n",
    "\n",
    "plt.title(\"Adaboost\")\n",
    "fi = best_model_Ada.feature_importances_\n",
    "idx = (-fi).argsort()[0:10]\n",
    "fi = fi[idx]\n",
    "idx = X_train.columns[idx]\n",
    "plt.barh(range(10), fi[::-1], align='center')\n",
    "plt.xlim(0, 1)\n",
    "plt.yticks(range(10), idx[::-1])\n",
    "plt.xlabel('Feature importances', size=10)\n",
    "plt.ylabel('Feature', size=10)\n",
    "\n",
    "plt.show() "
   ]
  },
  {
   "cell_type": "code",
   "execution_count": null,
   "id": "eleven-punishment",
   "metadata": {},
   "outputs": [],
   "source": []
  },
  {
   "cell_type": "code",
   "execution_count": null,
   "id": "hindu-saturday",
   "metadata": {},
   "outputs": [],
   "source": []
  },
  {
   "cell_type": "code",
   "execution_count": null,
   "id": "cultural-breath",
   "metadata": {},
   "outputs": [],
   "source": []
  },
  {
   "cell_type": "code",
   "execution_count": null,
   "id": "handled-omaha",
   "metadata": {},
   "outputs": [],
   "source": []
  },
  {
   "cell_type": "code",
   "execution_count": null,
   "id": "featured-hardware",
   "metadata": {},
   "outputs": [],
   "source": []
  },
  {
   "cell_type": "code",
   "execution_count": null,
   "id": "distinct-cisco",
   "metadata": {},
   "outputs": [],
   "source": []
  },
  {
   "cell_type": "code",
   "execution_count": null,
   "id": "animated-handy",
   "metadata": {},
   "outputs": [],
   "source": []
  }
 ],
 "metadata": {
  "kernelspec": {
   "display_name": "Python 3",
   "language": "python",
   "name": "python3"
  },
  "language_info": {
   "codemirror_mode": {
    "name": "ipython",
    "version": 3
   },
   "file_extension": ".py",
   "mimetype": "text/x-python",
   "name": "python",
   "nbconvert_exporter": "python",
   "pygments_lexer": "ipython3",
   "version": "3.7.10"
  }
 },
 "nbformat": 4,
 "nbformat_minor": 5
}
