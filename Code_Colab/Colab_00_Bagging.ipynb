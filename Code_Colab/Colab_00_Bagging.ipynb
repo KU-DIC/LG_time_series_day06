{
  "nbformat": 4,
  "nbformat_minor": 0,
  "metadata": {
    "colab": {
      "name": "00-Bagging.ipynb",
      "provenance": [],
      "collapsed_sections": []
    },
    "kernelspec": {
      "name": "python3",
      "display_name": "Python 3"
    },
    "language_info": {
      "name": "python"
    },
    "accelerator": "GPU"
  },
  "cells": [
    {
      "cell_type": "markdown",
      "source": [
        "## **(1) Bagging Method**"
      ],
      "metadata": {
        "id": "sE8hQ7nm9_KI"
      }
    },
    {
      "cell_type": "markdown",
      "source": [
        "Bagging (Booststrp Aggregating)\n",
        "\n",
        ": 무작위로 학습 데이터 셋을 여러 개로 나눈 후, 나누어진 데이터 셋을 여러 모델에 학습하고 각 샘플의 모델링을 통해 나온 예측 값을 결합"
      ],
      "metadata": {
        "id": "e5JJmsEK-Rhw"
      }
    },
    {
      "cell_type": "code",
      "source": [
        "from random import seed\n",
        "from random import random\n",
        "from random import randrange"
      ],
      "metadata": {
        "id": "lOA5izpE9v5p"
      },
      "execution_count": 2,
      "outputs": []
    },
    {
      "cell_type": "code",
      "source": [
        "# Create a random subsample from the dataset with replacement\n",
        "\n",
        "def subsample(dataset, ratio=1.0):\n",
        "\tsample = list()\n",
        "\tn_sample = round(len(dataset) * ratio)\n",
        "\twhile len(sample) < n_sample:\n",
        "\t\tindex = randrange(len(dataset)) # randrange: select a raw index randomly\n",
        "\t\tsample.append(dataset[index])\n",
        "\treturn sample"
      ],
      "metadata": {
        "id": "zGmiz0-B6mep"
      },
      "execution_count": 1,
      "outputs": []
    },
    {
      "cell_type": "code",
      "source": [
        "# Calculate the mean of a list of numbers\n",
        "def mean(numbers):\n",
        "\treturn sum(numbers) / float(len(numbers))"
      ],
      "metadata": {
        "id": "r6X5M8GG6mgP"
      },
      "execution_count": 4,
      "outputs": []
    },
    {
      "cell_type": "code",
      "source": [
        "seed(1)\n",
        "# True mean\n",
        "dataset = [[randrange(10)] for i in range(20)] # select 20 samples (sample range: 0 ~ 9)\n",
        "print('True Mean: %.3f' % mean([row[0] for row in dataset]))"
      ],
      "metadata": {
        "colab": {
          "base_uri": "https://localhost:8080/"
        },
        "id": "wQfkE9Jg6miA",
        "outputId": "cf5d09e5-fdac-407b-81c5-e5d79f294af1"
      },
      "execution_count": 5,
      "outputs": [
        {
          "output_type": "stream",
          "name": "stdout",
          "text": [
            "True Mean: 4.500\n"
          ]
        }
      ]
    },
    {
      "cell_type": "code",
      "source": [
        "# Estimated means\n",
        "ratio = 0.10\n",
        "for size in [1, 10, 100]:\n",
        "\tsample_means = list()\n",
        "\tfor i in range(size):\n",
        "\t\tsample = subsample(dataset, ratio)\n",
        "\t\tsample_mean = mean([row[0] for row in sample])\n",
        "\t\tsample_means.append(sample_mean) # num of sample_means = size\n",
        "\tprint('Samples=%d, Estimated Mean: %.3f' % (size, mean(sample_means)))"
      ],
      "metadata": {
        "colab": {
          "base_uri": "https://localhost:8080/"
        },
        "id": "43FQLOqj95x9",
        "outputId": "6ec560f3-8956-46b0-8ca4-4e59d5693d6f"
      },
      "execution_count": 14,
      "outputs": [
        {
          "output_type": "stream",
          "name": "stdout",
          "text": [
            "Samples=1, Estimated Mean: 1.500\n",
            "Samples=10, Estimated Mean: 3.900\n",
            "Samples=100, Estimated Mean: 4.350\n"
          ]
        }
      ]
    },
    {
      "cell_type": "code",
      "source": [
        ""
      ],
      "metadata": {
        "id": "F-iHyFGe96JQ"
      },
      "execution_count": null,
      "outputs": []
    },
    {
      "cell_type": "code",
      "source": [
        ""
      ],
      "metadata": {
        "id": "HxIZ8RM296LA"
      },
      "execution_count": null,
      "outputs": []
    }
  ]
}
